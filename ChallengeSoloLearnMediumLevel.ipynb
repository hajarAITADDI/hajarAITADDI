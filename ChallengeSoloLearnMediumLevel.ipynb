{
  "nbformat": 4,
  "nbformat_minor": 0,
  "metadata": {
    "colab": {
      "name": "ChallengeSoloLearnMediumLevel.ipynb",
      "provenance": [],
      "authorship_tag": "ABX9TyPtAHzeVh55KVNiW6+jYctG",
      "include_colab_link": true
    },
    "kernelspec": {
      "display_name": "Python 3",
      "name": "python3"
    },
    "language_info": {
      "name": "python"
    }
  },
  "cells": [
    {
      "cell_type": "markdown",
      "metadata": {
        "id": "view-in-github",
        "colab_type": "text"
      },
      "source": [
        "<a href=\"https://colab.research.google.com/github/hajarAITADDI/hajarAITADDI/blob/main/ChallengeSoloLearnMediumLevel.ipynb\" target=\"_parent\"><img src=\"https://colab.research.google.com/assets/colab-badge.svg\" alt=\"Open In Colab\"/></a>"
      ]
    },
    {
      "cell_type": "markdown",
      "metadata": {
        "id": "Btm5XiWE0sB7"
      },
      "source": [
        "# **Introduction**\n",
        "Solving challenges is my passion, so here my solutions for somme challenges in soloLearn mobile apps. "
      ]
    },
    {
      "cell_type": "markdown",
      "metadata": {
        "id": "pIby3CHuhKC_"
      },
      "source": [
        "# **Description of Challenge 1:**\n",
        "You and your friends are going to Europe! You have made plans to travel around Europe with your friends, but one thing you need to take into account so that everything goes according to play, is that the format of their date is different than from what is used in the United States. Your job is to convert all your dates from MM/DD/YYYY to DD/MM/YYYY.\n",
        "\n",
        "Task:\n",
        "Create a function that takes in a string containing a date that is in US format, and return a string of the same date converted to EU.\n",
        "\n",
        "Input Format:\n",
        "A string that contains a date formatting 11/19/2019 or November 19, 2019.\n",
        "\n",
        "Output Format:\n",
        "A string of the same date but in a different format: 19/11/2019.\n",
        "\n",
        "Sample Input:\n",
        "7/26/2019"
      ]
    },
    {
      "cell_type": "markdown",
      "metadata": {
        "id": "_AzWMqUmyJ_R"
      },
      "source": [
        ""
      ]
    },
    {
      "cell_type": "code",
      "metadata": {
        "id": "jtjREJdBVxmk"
      },
      "source": [
        "def convertDate(dateUS):\n",
        "    from datetime import datetime\n",
        "    if ',' not in dateUS:\n",
        "        datetime_string_format ='%m/%d/%Y'\n",
        "        datee=datetime.strptime(dateUS, datetime_string_format)\n",
        "        print('/'.join([str(datee.day),str(datee.month),str(datee.year)]))\n",
        "    else:\n",
        "        datetime_string_format ='%B %d,%Y'\n",
        "        datee=datetime.strptime(dateUS, datetime_string_format)\n",
        "        print('/'.join([str(datee.day),str(datee.month),str(datee.year)]))\n"
      ],
      "execution_count": null,
      "outputs": []
    },
    {
      "cell_type": "markdown",
      "metadata": {
        "id": "bnbHXioukk9C"
      },
      "source": [
        "# **Description of Challenge 2:Ping Latin**\n",
        "You have two friends who are speaking Pig Latin to each other! Pig Latin is the same words in the same order except that you take the first letter of each word and put it on the end, then you add 'ay' to the end of that. (\"road\" = \"oadray\")\n",
        "\n",
        "Task\n",
        "Your task is to take a sentence in English and turn it into the same sentence in Pig Latin!\n",
        "\n",
        "Input Format\n",
        "A string of the sentence in English that you need to translate into Pig Latin. (no punctuation or capitalization)\n",
        "\n",
        "Output Format\n",
        "A string of the same sentence in Pig Latin.\n",
        "\n",
        "Sample Input\n",
        "\"nevermind youve got them\"\n",
        "\n",
        "Sample Output\n",
        "\"evermindnay ouveyay otgay hemtay\"\n",
        "\n",
        "\n"
      ]
    },
    {
      "cell_type": "code",
      "metadata": {
        "id": "TPfK9_s8cbJM"
      },
      "source": [
        "#Solution:\n",
        "sentence=input()\n",
        "words=sentence.split(' ')\n",
        "n=len(words)\n",
        "for i in range(n):\n",
        "    new_word=words[i]+words[i][0]+'ay'\n",
        "    words[i]=new_word[1:]\n",
        "print(' '.join(words))"
      ],
      "execution_count": null,
      "outputs": []
    },
    {
      "cell_type": "markdown",
      "metadata": {
        "id": "n9uMDbW9UDpE"
      },
      "source": [
        "# **Description of Challenge 3: Deja vu**\n",
        "You aren't paying attention and you accidentally type a bunch of random letters on your keyboard. You want to know if you ever typed the same letter twice, or if they are all unique letters.\n",
        "\n",
        "Task:\n",
        "If you are given a string of random letters, your task is to evaluate whether any letter is repeated in the string or if you only hit unique keys while you typing.\n",
        "\n",
        "Input Format:\n",
        "A string of random letter characters (no numbers or other buttons were pressed).\n",
        "\n",
        "Output Format:\n",
        "A string that says 'Deja Vu' if any letter is repeated in the input string, or a string that says 'Unique' if there are no repeats.\n",
        "\n",
        "Sample Input:\n",
        "aaaaaaaghhhhjkll\n",
        "\n",
        "Sample Output:\n",
        "Deja Vu"
      ]
    },
    {
      "cell_type": "code",
      "metadata": {
        "id": "6IZ99BPNPet0"
      },
      "source": [
        "#Solution\n",
        "def Unique(word):\n",
        "   oldCharacter=''\n",
        "   for l in word:\n",
        "     if(l not in oldCharacter):\n",
        "       if(word.count(l)>1):\n",
        "         return \"Deja Vu\"\n",
        "       else:\n",
        "         oldCharacter=oldCharacter+'l'\n",
        "   return \"Unique\"\n",
        "Unique(input())\n",
        "\n",
        "\n"
      ],
      "execution_count": null,
      "outputs": []
    },
    {
      "cell_type": "markdown",
      "metadata": {
        "id": "N9IO43Hovb_g"
      },
      "source": [
        "# **Description of Challenge 4:The spy life**\n",
        "You are a secret agent, and you receive an encrypted message that needs to be decoded. The code that is being used flips the message backwards and inserts non-alphabetic characters in the message to make it hard to decipher.\n",
        "\n",
        "Task:\n",
        "Create a program that will take the encoded message, flip it around, remove any characters that are not a letter or a space, and output the hidden message.\n",
        "\n",
        "Input Format: \n",
        "A string of characters that represent the encoded message.\n",
        "\n",
        "Output Format:\n",
        "A string of character that represent the intended secret message.\n",
        "\n",
        "Sample Input:\n",
        "d89%l++5r19o7W *o=l645le9H\n",
        "\n",
        "Sample Output:\n",
        "Hello World"
      ]
    },
    {
      "cell_type": "code",
      "metadata": {
        "id": "8ERv583ujAxy"
      },
      "source": [
        "#Solution\n",
        "sentence=input()\n",
        "words=sentence.split(' ')\n",
        "for i in range(len(words)):\n",
        "  word_string_format=''\n",
        "  for character in words[i]:\n",
        "   if character.isalpha():\n",
        "       word_string_format=word_string_format+character\n",
        "  words[i]=word_string_format[::-1]\n",
        "print(' '.join(words[::-1]))\n",
        "\n"
      ],
      "execution_count": null,
      "outputs": []
    },
    {
      "cell_type": "markdown",
      "metadata": {
        "id": "BeWEUKJ0zZ4s"
      },
      "source": [
        "# **Description of challenge 5: Symbols**\n",
        "There is a problem with your keyboard: it randomly writes symbols when you are typing a text. You need to clean up the text by removing all symbols.\n",
        "\n",
        "Task:\n",
        "Take a text that includes some random symbols and translate it into a text that has none of them. The resulting text should only include letters and numbers.\n",
        "\n",
        "Input Format:\n",
        "A string with random symbols.\n",
        "\n",
        "Output Format:\n",
        "A string of the text with all the symbols removed.\n",
        "\n",
        "Sample Input:\n",
        "l£e*ts go @an#d@@ g***et lunch$$$\n",
        "\n",
        "Sample Output:\n",
        "lets go and get lunch"
      ]
    },
    {
      "cell_type": "code",
      "metadata": {
        "id": "mGuiySJ9wtzL"
      },
      "source": [
        "#Solution\n",
        "sentence=input()\n",
        "words=sentence.split(' ')\n",
        "for i in range(len(words)):\n",
        "  word_string_format=''\n",
        "  for character in words[i]:\n",
        "   if character.isalnum():\n",
        "       word_string_format=word_string_format+character\n",
        "  words[i]=word_string_format\n",
        "print(' '.join(words))"
      ],
      "execution_count": null,
      "outputs": []
    },
    {
      "cell_type": "markdown",
      "metadata": {
        "id": "Eu-dc8Bv_mNX"
      },
      "source": [
        "# **Description Challenge 6:This is odd...**\n",
        "You want to take a list of numbers and find the sum of all of the even numbers in the list. Ignore any odd numbers.\n",
        "\n",
        "Task:\n",
        "Find the sum of all even integers in a list of numbers.\n",
        "\n",
        "Input Format:\n",
        "The first input denotes the length of the list (N). The next N lines contain the list elements as integers.\n",
        "\n",
        "Output Format:\n",
        "An integer that represents the sum of only the even numbers in the list.\n",
        "\n",
        "Sample Input:\n",
        "9\n",
        "1\n",
        "2\n",
        "3\n",
        "4\n",
        "5\n",
        "6\n",
        "7\n",
        "8\n",
        "9\n",
        "\n",
        "Sample Output:\n",
        "20"
      ]
    },
    {
      "cell_type": "code",
      "metadata": {
        "id": "Bw2rQpv-AVV9"
      },
      "source": [
        "n=int(input())\n",
        "sum=0\n",
        "for i in range(n):\n",
        "    number=int(input())\n",
        "    if(number%2==0):\n",
        "       sum=sum+number\n",
        "print(sum)"
      ],
      "execution_count": null,
      "outputs": []
    },
    {
      "cell_type": "markdown",
      "metadata": {
        "id": "DtI9u3OnUGlo"
      },
      "source": [
        "# **Description of Challenge 7: No Numerals**\n",
        "You write a phrase and include a lot of number characters (0-9), but you decide that for numbers 10 and under you would rather write the word out instead. Can you go in and edit your phrase to write out the name of each number instead of using the numeral? \n",
        "\n",
        "Task: \n",
        "Take a phrase and replace any instances of an integer from 0-10 and replace it with the English word that corresponds to that integer.\n",
        "\n",
        "Input Format: \n",
        "A string of the phrase in its original form (lowercase).\n",
        "\n",
        "Output Format: \n",
        "A string of the updated phrase that has changed the numerals to words.\n",
        "\n",
        "Sample Input: \n",
        "i need 2 pumpkins and 3 apples\n",
        "\n",
        "Sample Output: \n",
        "i need two pumpkins and three apples"
      ]
    },
    {
      "cell_type": "code",
      "metadata": {
        "id": "KhTuTzMbBjQK"
      },
      "source": [
        "#Solution\n",
        "#convert Number to its string word\n",
        "def intToword(num):\n",
        "    d = { 0 : 'zero', 1 : 'one', 2 : 'two',\n",
        "          3 : 'three',4 : 'four', 5 : 'five',\n",
        "          6 : 'six', 7 : 'seven',8 : 'eight',\n",
        "          9 : 'nine', 10 : 'ten'}\n",
        "    return d[num]\n",
        "\n",
        "def replaceNum(sentence):\n",
        " for i in range(11,0,-1):\n",
        "  if str(i) in sentence:\n",
        "     sentence=sentence.replace(str(i),intToword(i))\n",
        " return sentence\n",
        "\n",
        "print(replaceNum(input()))"
      ],
      "execution_count": null,
      "outputs": []
    },
    {
      "cell_type": "markdown",
      "metadata": {
        "id": "7QrCGQZed1-k"
      },
      "source": [
        "# **Description of Challenge 8: Secret message**\n",
        "You are trying to send a secret message, and you've decided to encode it by replacing every letter in your message with its corresponding letter in a backwards version of the alphabet.\n",
        "What do your messages look like?\n",
        "\n",
        "Task:\n",
        "Create a program that replaces each letter in a message with its corresponding letter in a backwards version of the English alphabet.\n",
        "\n",
        "Input Format:\n",
        "A string of your message in its normal form.\n",
        "\n",
        "Output Format:\n",
        "A string of your message once you have encoded it (all lower case).\n",
        "\n",
        "Sample Input:\n",
        "Hello World\n",
        "\n",
        "Sample Output:\n",
        "svool dliow"
      ]
    },
    {
      "cell_type": "code",
      "metadata": {
        "id": "yIF4y1V2XeMC"
      },
      "source": [
        "def encodeWord(word):\n",
        "  import string\n",
        "  listAlphabet=list(string.ascii_lowercase)\n",
        "  listAlphabetReversed=listAlphabet[::-1]\n",
        "  wordEncoded=''\n",
        "  word=word.lower()\n",
        "  for character in word:\n",
        "    index=listAlphabet.index(character)\n",
        "    wordEncoded=wordEncoded+listAlphabetReversed[index]\n",
        "  return wordEncoded\n",
        "\n",
        "def encodeSentence(sentence):\n",
        "  words=sentence.split(\" \")\n",
        "  for i in range(len(words)):\n",
        "    words[i]=encodeWord(words[i])\n",
        "  return ' '.join(words)\n",
        "\n",
        "print(encodeSentence(input()))\n",
        "\n"
      ],
      "execution_count": null,
      "outputs": []
    },
    {
      "cell_type": "markdown",
      "metadata": {
        "id": "LEi24od2st99"
      },
      "source": [
        "# **Description of Challenge 9:Millitary Time**\n",
        "you want to convert the time from a 12 hour clock to a 24 hour clock. If you are given the time on a 12 hour clock, you should output the time as it would appear on a 24 hour clock. \n",
        "\n",
        "Task: \n",
        "Determine if the time you are given is AM or PM, then convert that value to the way that it would appear on a 24 hour clock.\n",
        "\n",
        "Input Format:\n",
        "A string that includes the time, then a space and the indicator for AM or PM.\n",
        "\n",
        "Output Format:\n",
        "A string that includes the time in a 24 hour format (XX:XX)\n",
        "\n",
        "Sample Input:\n",
        "1:15 PM\n",
        "\n",
        "Sample Output:\n",
        "13:15"
      ]
    },
    {
      "cell_type": "code",
      "metadata": {
        "id": "BqWgP5vCesTP"
      },
      "source": [
        "time='11:15 PM'\n",
        "listTime=time.split(\" \")\n",
        "if \"AM\" in listTime:\n",
        "  time=listTime[0]\n",
        "else:\n",
        "  listTime=listTime[0].split(\":\")\n",
        "  hourPM=str(int(listTime[0])+12)\n",
        "  time=':'.join([hourPM,listTime[1]])\n",
        "print(time)\n",
        "  "
      ],
      "execution_count": null,
      "outputs": []
    },
    {
      "cell_type": "markdown",
      "metadata": {
        "id": "K366sR_6xqWm"
      },
      "source": [
        "# **Description of Challenge 10: Average World Length**\n",
        "You are in a college level English class, your professor wants you to write an essay, but you need to find out the average length of all the words you use. It is up to you to figure out how long each word is and to average it out.\n",
        "\n",
        "Task:\n",
        "Takes in a string, figure out the average length of all the words and return a number representing the average length. Remove all punctuation. Round up to the nearest whole number.\n",
        "\n",
        "Input Format:\n",
        "A string containing multiple words.\n",
        "\n",
        "Output Format:\n",
        "A number representing the average length of each word, rounded up to the nearest whole number.\n",
        "\n",
        "Sample Input:\n",
        "this phrase has multiple words\n",
        "\n",
        "Sample Output:\n",
        "6\n"
      ]
    },
    {
      "cell_type": "code",
      "metadata": {
        "id": "JQ1vp_bKt6qU"
      },
      "source": [
        "import string\n",
        "import math\n",
        "sentence=input()\n",
        "AverageLen=0\n",
        "words=sentence.split(' ')\n",
        "for word in words:\n",
        "  if word.isalpha():\n",
        "    AverageLen=len(word)+AverageLen\n",
        "  else:\n",
        "    for character in word:\n",
        "      if character.isalpha():\n",
        "        AverageLen=AverageLen+1\n",
        "\n",
        "AverageLen=math.ceil(AverageLen/len(words))\n",
        "print(AverageLen)\n",
        "\n"
      ],
      "execution_count": null,
      "outputs": []
    },
    {
      "cell_type": "markdown",
      "metadata": {
        "id": "zFtOckfI0AcJ"
      },
      "source": [
        "# **Description of Challenge 11: Youtube Link Folder**\n",
        "You and your friends like to share YouTube links all throughout the day. You want to keep track of all the videos you watch in your own personal notepad, but you find that keeping the entire link is unnecessary.\n",
        "Keep the video ID (the combination of letters and numbers at the end of the link) in your notepad to slim down the URL.\n",
        "\n",
        "Task:\n",
        "Create a program that parses through a link, extracts and outputs the YouTube video ID.\n",
        "\n",
        "Input Format:\n",
        "A string containing the URL to a YouTube video. The format of the string can be in \"https://www.youtube.com/watch?v=kbxkq_w51PM\" or the shortened \"https://youtu.be/KMBBjzp5hdc\" format.\n",
        "\n",
        "Output Format:\n",
        "A string containing the extracted YouTube video id.\n",
        "\n",
        "Sample Input:\n",
        "https://www.youtube.com/watch?v=RRW2aUSw5vU\n",
        "Sample Output:RRW2aUSw5vU"
      ]
    },
    {
      "cell_type": "code",
      "metadata": {
        "id": "J0nvAMf1ykwE"
      },
      "source": [
        "link=input()\n",
        "if '=' in link:\n",
        "  link=link.split('=')\n",
        "\n",
        "else:\n",
        "  link=link.split('be/')\n",
        "link=link[1]\n",
        "print(link)"
      ],
      "execution_count": null,
      "outputs": []
    }
  ]
}